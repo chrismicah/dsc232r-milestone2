{
  "cells": [
    {
      "cell_type": "markdown",
      "metadata": {},
      "source": [
        "#in order to run this you must first must have a kaggle account\n",
        "#and then download your api key to a kaggle.json file and then \n",
        "#upload it into the cell below, then run the following cells to\n",
        "#download the dataset and do the EDA"
      ]
    },
    {
      "cell_type": "code",
      "execution_count": 12,
      "metadata": {
        "colab": {
          "base_uri": "https://localhost:8080/",
          "height": 86
        },
        "id": "fZ92Skd9rT3q",
        "outputId": "7d6fff01-9fe0-4946-8524-67643036bb49"
      },
      "outputs": [
        {
          "data": {
            "text/html": [
              "\n",
              "     <input type=\"file\" id=\"files-4bd54708-9c68-4c1f-8c1e-aae72e308bc3\" name=\"files[]\" multiple disabled\n",
              "        style=\"border:none\" />\n",
              "     <output id=\"result-4bd54708-9c68-4c1f-8c1e-aae72e308bc3\">\n",
              "      Upload widget is only available when the cell has been executed in the\n",
              "      current browser session. Please rerun this cell to enable.\n",
              "      </output>\n",
              "      <script>// Copyright 2017 Google LLC\n",
              "//\n",
              "// Licensed under the Apache License, Version 2.0 (the \"License\");\n",
              "// you may not use this file except in compliance with the License.\n",
              "// You may obtain a copy of the License at\n",
              "//\n",
              "//      http://www.apache.org/licenses/LICENSE-2.0\n",
              "//\n",
              "// Unless required by applicable law or agreed to in writing, software\n",
              "// distributed under the License is distributed on an \"AS IS\" BASIS,\n",
              "// WITHOUT WARRANTIES OR CONDITIONS OF ANY KIND, either express or implied.\n",
              "// See the License for the specific language governing permissions and\n",
              "// limitations under the License.\n",
              "\n",
              "/**\n",
              " * @fileoverview Helpers for google.colab Python module.\n",
              " */\n",
              "(function(scope) {\n",
              "function span(text, styleAttributes = {}) {\n",
              "  const element = document.createElement('span');\n",
              "  element.textContent = text;\n",
              "  for (const key of Object.keys(styleAttributes)) {\n",
              "    element.style[key] = styleAttributes[key];\n",
              "  }\n",
              "  return element;\n",
              "}\n",
              "\n",
              "// Max number of bytes which will be uploaded at a time.\n",
              "const MAX_PAYLOAD_SIZE = 100 * 1024;\n",
              "\n",
              "function _uploadFiles(inputId, outputId) {\n",
              "  const steps = uploadFilesStep(inputId, outputId);\n",
              "  const outputElement = document.getElementById(outputId);\n",
              "  // Cache steps on the outputElement to make it available for the next call\n",
              "  // to uploadFilesContinue from Python.\n",
              "  outputElement.steps = steps;\n",
              "\n",
              "  return _uploadFilesContinue(outputId);\n",
              "}\n",
              "\n",
              "// This is roughly an async generator (not supported in the browser yet),\n",
              "// where there are multiple asynchronous steps and the Python side is going\n",
              "// to poll for completion of each step.\n",
              "// This uses a Promise to block the python side on completion of each step,\n",
              "// then passes the result of the previous step as the input to the next step.\n",
              "function _uploadFilesContinue(outputId) {\n",
              "  const outputElement = document.getElementById(outputId);\n",
              "  const steps = outputElement.steps;\n",
              "\n",
              "  const next = steps.next(outputElement.lastPromiseValue);\n",
              "  return Promise.resolve(next.value.promise).then((value) => {\n",
              "    // Cache the last promise value to make it available to the next\n",
              "    // step of the generator.\n",
              "    outputElement.lastPromiseValue = value;\n",
              "    return next.value.response;\n",
              "  });\n",
              "}\n",
              "\n",
              "/**\n",
              " * Generator function which is called between each async step of the upload\n",
              " * process.\n",
              " * @param {string} inputId Element ID of the input file picker element.\n",
              " * @param {string} outputId Element ID of the output display.\n",
              " * @return {!Iterable<!Object>} Iterable of next steps.\n",
              " */\n",
              "function* uploadFilesStep(inputId, outputId) {\n",
              "  const inputElement = document.getElementById(inputId);\n",
              "  inputElement.disabled = false;\n",
              "\n",
              "  const outputElement = document.getElementById(outputId);\n",
              "  outputElement.innerHTML = '';\n",
              "\n",
              "  const pickedPromise = new Promise((resolve) => {\n",
              "    inputElement.addEventListener('change', (e) => {\n",
              "      resolve(e.target.files);\n",
              "    });\n",
              "  });\n",
              "\n",
              "  const cancel = document.createElement('button');\n",
              "  inputElement.parentElement.appendChild(cancel);\n",
              "  cancel.textContent = 'Cancel upload';\n",
              "  const cancelPromise = new Promise((resolve) => {\n",
              "    cancel.onclick = () => {\n",
              "      resolve(null);\n",
              "    };\n",
              "  });\n",
              "\n",
              "  // Wait for the user to pick the files.\n",
              "  const files = yield {\n",
              "    promise: Promise.race([pickedPromise, cancelPromise]),\n",
              "    response: {\n",
              "      action: 'starting',\n",
              "    }\n",
              "  };\n",
              "\n",
              "  cancel.remove();\n",
              "\n",
              "  // Disable the input element since further picks are not allowed.\n",
              "  inputElement.disabled = true;\n",
              "\n",
              "  if (!files) {\n",
              "    return {\n",
              "      response: {\n",
              "        action: 'complete',\n",
              "      }\n",
              "    };\n",
              "  }\n",
              "\n",
              "  for (const file of files) {\n",
              "    const li = document.createElement('li');\n",
              "    li.append(span(file.name, {fontWeight: 'bold'}));\n",
              "    li.append(span(\n",
              "        `(${file.type || 'n/a'}) - ${file.size} bytes, ` +\n",
              "        `last modified: ${\n",
              "            file.lastModifiedDate ? file.lastModifiedDate.toLocaleDateString() :\n",
              "                                    'n/a'} - `));\n",
              "    const percent = span('0% done');\n",
              "    li.appendChild(percent);\n",
              "\n",
              "    outputElement.appendChild(li);\n",
              "\n",
              "    const fileDataPromise = new Promise((resolve) => {\n",
              "      const reader = new FileReader();\n",
              "      reader.onload = (e) => {\n",
              "        resolve(e.target.result);\n",
              "      };\n",
              "      reader.readAsArrayBuffer(file);\n",
              "    });\n",
              "    // Wait for the data to be ready.\n",
              "    let fileData = yield {\n",
              "      promise: fileDataPromise,\n",
              "      response: {\n",
              "        action: 'continue',\n",
              "      }\n",
              "    };\n",
              "\n",
              "    // Use a chunked sending to avoid message size limits. See b/62115660.\n",
              "    let position = 0;\n",
              "    do {\n",
              "      const length = Math.min(fileData.byteLength - position, MAX_PAYLOAD_SIZE);\n",
              "      const chunk = new Uint8Array(fileData, position, length);\n",
              "      position += length;\n",
              "\n",
              "      const base64 = btoa(String.fromCharCode.apply(null, chunk));\n",
              "      yield {\n",
              "        response: {\n",
              "          action: 'append',\n",
              "          file: file.name,\n",
              "          data: base64,\n",
              "        },\n",
              "      };\n",
              "\n",
              "      let percentDone = fileData.byteLength === 0 ?\n",
              "          100 :\n",
              "          Math.round((position / fileData.byteLength) * 100);\n",
              "      percent.textContent = `${percentDone}% done`;\n",
              "\n",
              "    } while (position < fileData.byteLength);\n",
              "  }\n",
              "\n",
              "  // All done.\n",
              "  yield {\n",
              "    response: {\n",
              "      action: 'complete',\n",
              "    }\n",
              "  };\n",
              "}\n",
              "\n",
              "scope.google = scope.google || {};\n",
              "scope.google.colab = scope.google.colab || {};\n",
              "scope.google.colab._files = {\n",
              "  _uploadFiles,\n",
              "  _uploadFilesContinue,\n",
              "};\n",
              "})(self);\n",
              "</script> "
            ],
            "text/plain": [
              "<IPython.core.display.HTML object>"
            ]
          },
          "metadata": {},
          "output_type": "display_data"
        },
        {
          "name": "stdout",
          "output_type": "stream",
          "text": [
            "Saving kaggle.json to kaggle.json\n"
          ]
        },
        {
          "data": {
            "text/plain": [
              "{'kaggle.json': b'{\"username\":\"chrisspears\",\"key\":\"62381eeebc759ccc35c566d04e1eb8f1\"}'}"
            ]
          },
          "execution_count": 12,
          "metadata": {},
          "output_type": "execute_result"
        }
      ],
      "source": [
        "from google.colab import files\n",
        "files.upload()\n"
      ]
    },
    {
      "cell_type": "code",
      "execution_count": 13,
      "metadata": {
        "colab": {
          "base_uri": "https://localhost:8080/"
        },
        "id": "D17feIXEquF8",
        "outputId": "40df03a8-c41f-4878-b049-c47a34230b16"
      },
      "outputs": [
        {
          "name": "stdout",
          "output_type": "stream",
          "text": [
            "Requirement already satisfied: pyspark in /usr/local/lib/python3.11/dist-packages (3.5.5)\n",
            "Requirement already satisfied: kaggle in /usr/local/lib/python3.11/dist-packages (1.7.4.2)\n",
            "Requirement already satisfied: py4j==0.10.9.7 in /usr/local/lib/python3.11/dist-packages (from pyspark) (0.10.9.7)\n",
            "Requirement already satisfied: bleach in /usr/local/lib/python3.11/dist-packages (from kaggle) (6.2.0)\n",
            "Requirement already satisfied: certifi>=14.05.14 in /usr/local/lib/python3.11/dist-packages (from kaggle) (2025.4.26)\n",
            "Requirement already satisfied: charset-normalizer in /usr/local/lib/python3.11/dist-packages (from kaggle) (3.4.1)\n",
            "Requirement already satisfied: idna in /usr/local/lib/python3.11/dist-packages (from kaggle) (3.10)\n",
            "Requirement already satisfied: protobuf in /usr/local/lib/python3.11/dist-packages (from kaggle) (5.29.4)\n",
            "Requirement already satisfied: python-dateutil>=2.5.3 in /usr/local/lib/python3.11/dist-packages (from kaggle) (2.9.0.post0)\n",
            "Requirement already satisfied: python-slugify in /usr/local/lib/python3.11/dist-packages (from kaggle) (8.0.4)\n",
            "Requirement already satisfied: requests in /usr/local/lib/python3.11/dist-packages (from kaggle) (2.32.3)\n",
            "Requirement already satisfied: setuptools>=21.0.0 in /usr/local/lib/python3.11/dist-packages (from kaggle) (75.2.0)\n",
            "Requirement already satisfied: six>=1.10 in /usr/local/lib/python3.11/dist-packages (from kaggle) (1.17.0)\n",
            "Requirement already satisfied: text-unidecode in /usr/local/lib/python3.11/dist-packages (from kaggle) (1.3)\n",
            "Requirement already satisfied: tqdm in /usr/local/lib/python3.11/dist-packages (from kaggle) (4.67.1)\n",
            "Requirement already satisfied: urllib3>=1.15.1 in /usr/local/lib/python3.11/dist-packages (from kaggle) (2.4.0)\n",
            "Requirement already satisfied: webencodings in /usr/local/lib/python3.11/dist-packages (from kaggle) (0.5.1)\n",
            "Dataset URL: https://www.kaggle.com/datasets/mkechinov/ecommerce-behavior-data-from-multi-category-store\n",
            "License(s): copyright-authors\n",
            "Archive:  ecommerce-behavior-data-from-multi-category-store.zip\n",
            "  inflating: 2019-Nov.csv            \n",
            "  inflating: 2019-Oct.csv            \n"
          ]
        }
      ],
      "source": [
        "\n",
        "!pip install pyspark kaggle\n",
        "\n",
        "\n",
        "!mkdir -p ~/.kaggle\n",
        "!cp kaggle.json ~/.kaggle/\n",
        "!chmod 600 ~/.kaggle/kaggle.json\n",
        "\n",
        "\n",
        "!kaggle datasets download -d mkechinov/ecommerce-behavior-data-from-multi-category-store\n",
        "!unzip ecommerce-behavior-data-from-multi-category-store.zip\n"
      ]
    },
    {
      "cell_type": "code",
      "execution_count": 14,
      "metadata": {
        "colab": {
          "base_uri": "https://localhost:8080/"
        },
        "id": "xCKZDzliqvMe",
        "outputId": "3c8eeb76-30a2-4a99-96b6-16fde07b749d"
      },
      "outputs": [
        {
          "data": {
            "text/plain": [
              "100000"
            ]
          },
          "execution_count": 14,
          "metadata": {},
          "output_type": "execute_result"
        }
      ],
      "source": [
        "from pyspark.sql import SparkSession\n",
        "\n",
        "spark = SparkSession.builder.appName(\"ECommerceEDA\").getOrCreate()\n",
        "\n",
        "df = spark.read.csv(\"2019-Nov.csv\", header=True, inferSchema=True)\n",
        "\n",
        "\n",
        "df_sample = df.limit(100000).cache()\n",
        "df_sample.count()\n"
      ]
    },
    {
      "cell_type": "markdown",
      "metadata": {
        "id": "KiLEs1PDy9Ge"
      },
      "source": [
        "schema overview"
      ]
    },
    {
      "cell_type": "code",
      "execution_count": null,
      "metadata": {
        "id": "DTo84R9Cy8p2"
      },
      "outputs": [],
      "source": []
    },
    {
      "cell_type": "code",
      "execution_count": null,
      "metadata": {
        "id": "oRQkPp2VzC_B"
      },
      "outputs": [],
      "source": [
        "basic summary stats"
      ]
    },
    {
      "cell_type": "code",
      "execution_count": 15,
      "metadata": {
        "colab": {
          "base_uri": "https://localhost:8080/"
        },
        "id": "-u6BtAzyqxTx",
        "outputId": "5db72994-1524-411f-db4d-cf6b60e6352f"
      },
      "outputs": [
        {
          "name": "stdout",
          "output_type": "stream",
          "text": [
            "root\n",
            " |-- event_time: timestamp (nullable = true)\n",
            " |-- event_type: string (nullable = true)\n",
            " |-- product_id: integer (nullable = true)\n",
            " |-- category_id: long (nullable = true)\n",
            " |-- category_code: string (nullable = true)\n",
            " |-- brand: string (nullable = true)\n",
            " |-- price: double (nullable = true)\n",
            " |-- user_id: integer (nullable = true)\n",
            " |-- user_session: string (nullable = true)\n",
            "\n",
            "+-------+----------+-------------------+--------------------+-------------------+------+------------------+-------------------+--------------------+\n",
            "|summary|event_type|         product_id|         category_id|      category_code| brand|             price|            user_id|        user_session|\n",
            "+-------+----------+-------------------+--------------------+-------------------+------+------------------+-------------------+--------------------+\n",
            "|  count|    100000|             100000|              100000|              66160| 84247|            100000|             100000|              100000|\n",
            "|   mean|      NULL|    1.12357745249E7|2.057925778233272...|               NULL|   NaN| 281.5397561999989|   5.354871060186E8|                NULL|\n",
            "| stddev|      NULL|1.219807390318543E7|1.965420217338572...|               NULL|   NaN|342.41464082035185|2.031755243167027E7|                NULL|\n",
            "|    min|      cart|            1000978| 2053013552226107603|    accessories.bag|a-case|               0.0|          275256741|000201a5-a363-4fd...|\n",
            "|    max|      view|           60500002| 2180736567012753620|stationery.cartrige|  zuru|           2574.07|          566309999|fffbca08-7bd1-40d...|\n",
            "+-------+----------+-------------------+--------------------+-------------------+------+------------------+-------------------+--------------------+\n",
            "\n"
          ]
        }
      ],
      "source": [
        "df_sample.printSchema()\n",
        "df_sample.describe().show()\n"
      ]
    },
    {
      "cell_type": "markdown",
      "metadata": {
        "id": "1akETZgVzG4J"
      },
      "source": [
        "null values"
      ]
    },
    {
      "cell_type": "code",
      "execution_count": 18,
      "metadata": {
        "colab": {
          "base_uri": "https://localhost:8080/"
        },
        "id": "jeKiFbrUqzhy",
        "outputId": "37064b82-878e-41ff-cc4b-55745df664c4"
      },
      "outputs": [
        {
          "name": "stdout",
          "output_type": "stream",
          "text": [
            "+----------------+----------------+----------------+-----------------+-------------------+-----------+-----------+-------------+------------------+\n",
            "|event_time_nulls|event_type_nulls|product_id_nulls|category_id_nulls|category_code_nulls|brand_nulls|price_nulls|user_id_nulls|user_session_nulls|\n",
            "+----------------+----------------+----------------+-----------------+-------------------+-----------+-----------+-------------+------------------+\n",
            "|               0|               0|               0|                0|              33840|      15753|          0|            0|                 0|\n",
            "+----------------+----------------+----------------+-----------------+-------------------+-----------+-----------+-------------+------------------+\n",
            "\n"
          ]
        }
      ],
      "source": [
        "from pyspark.sql.functions import col, isnan, when, count\n",
        "from pyspark.sql.types import DoubleType, FloatType\n",
        "\n",
        "null_exprs = []\n",
        "\n",
        "for field in df_sample.schema.fields:\n",
        "    cname = field.name\n",
        "    ctype = field.dataType\n",
        "\n",
        "    if isinstance(ctype, (DoubleType, FloatType)):\n",
        "        expr = count(when(col(cname).isNull() | isnan(col(cname)), cname)).alias(f\"{cname}_nulls\")\n",
        "    else:\n",
        "        expr = count(when(col(cname).isNull(), cname)).alias(f\"{cname}_nulls\")\n",
        "\n",
        "    null_exprs.append(expr)\n",
        "\n",
        "df_sample.select(null_exprs).show()\n"
      ]
    },
    {
      "cell_type": "markdown",
      "metadata": {
        "id": "XjSbhTMSzL6t"
      },
      "source": []
    },
    {
      "cell_type": "markdown",
      "metadata": {
        "id": "_zWVqSg7zNKL"
      },
      "source": [
        "event type count"
      ]
    },
    {
      "cell_type": "code",
      "execution_count": 19,
      "metadata": {
        "colab": {
          "base_uri": "https://localhost:8080/"
        },
        "id": "XrcuxZLbq2Cv",
        "outputId": "672ec77a-df4d-4b8e-d021-33d24fb9e870"
      },
      "outputs": [
        {
          "name": "stdout",
          "output_type": "stream",
          "text": [
            "+----------+-----+\n",
            "|event_type|count|\n",
            "+----------+-----+\n",
            "|      view|97489|\n",
            "|  purchase| 1422|\n",
            "|      cart| 1089|\n",
            "+----------+-----+\n",
            "\n"
          ]
        }
      ],
      "source": [
        "df_sample.groupBy(\"event_type\").count().orderBy(\"count\", ascending=False).show()\n"
      ]
    },
    {
      "cell_type": "markdown",
      "metadata": {
        "id": "ZR_zGKMczRlf"
      },
      "source": [
        "average price per event"
      ]
    },
    {
      "cell_type": "code",
      "execution_count": 20,
      "metadata": {
        "colab": {
          "base_uri": "https://localhost:8080/"
        },
        "id": "mMCDaL02q5bw",
        "outputId": "b5b12193-a404-4cba-9fcf-0b713b58b379"
      },
      "outputs": [
        {
          "name": "stdout",
          "output_type": "stream",
          "text": [
            "+----------+------------------+\n",
            "|event_type|         avg_price|\n",
            "+----------+------------------+\n",
            "|      view|281.24173506754585|\n",
            "|      cart|307.04546372819055|\n",
            "|  purchase| 282.4385372714487|\n",
            "+----------+------------------+\n",
            "\n"
          ]
        }
      ],
      "source": [
        "from pyspark.sql.functions import avg\n",
        "df_sample.groupBy(\"event_type\").agg(avg(\"price\").alias(\"avg_price\")).show()\n"
      ]
    },
    {
      "cell_type": "markdown",
      "metadata": {
        "id": "Ozutxd6uzYl3"
      },
      "source": [
        "top ten product categories"
      ]
    },
    {
      "cell_type": "code",
      "execution_count": 21,
      "metadata": {
        "colab": {
          "base_uri": "https://localhost:8080/"
        },
        "id": "1kegS3xMq7LP",
        "outputId": "dabd3214-afaa-4579-cba3-6f0c4d016e6f"
      },
      "outputs": [
        {
          "name": "stdout",
          "output_type": "stream",
          "text": [
            "+--------------------+-----+\n",
            "|       category_code|count|\n",
            "+--------------------+-----+\n",
            "|                NULL|33840|\n",
            "|electronics.smart...|24928|\n",
            "|electronics.audio...| 2813|\n",
            "|electronics.video.tv| 2732|\n",
            "|  electronics.clocks| 2660|\n",
            "|  computers.notebook| 2468|\n",
            "|       apparel.shoes| 2110|\n",
            "|appliances.enviro...| 1942|\n",
            "|appliances.kitche...| 1899|\n",
            "|appliances.kitche...| 1802|\n",
            "+--------------------+-----+\n",
            "only showing top 10 rows\n",
            "\n"
          ]
        }
      ],
      "source": [
        "df_sample.groupBy(\"category_code\").count().orderBy(\"count\", ascending=False).show(10)\n"
      ]
    },
    {
      "cell_type": "markdown",
      "metadata": {
        "id": "KjdS46tRzhH1"
      },
      "source": [
        "boxplot for price per event"
      ]
    },
    {
      "cell_type": "code",
      "execution_count": 22,
      "metadata": {
        "colab": {
          "base_uri": "https://localhost:8080/",
          "height": 472
        },
        "id": "uCIFjheSq_XG",
        "outputId": "cb6809d0-4549-47d4-9172-003bbddd9a2c"
      },
      "outputs": [
        {
          "data": {
            "image/png": "[encoded data removed]",
            "text/plain": [
              "<Figure size 640x480 with 1 Axes>"
            ]
          },
          "metadata": {},
          "output_type": "display_data"
        }
      ],
      "source": [
        "pandas_df = df_sample.select(\"event_type\", \"price\").toPandas()\n",
        "\n",
        "import seaborn as sns\n",
        "import matplotlib.pyplot as plt\n",
        "\n",
        "sns.boxplot(data=pandas_df, x=\"event_type\", y=\"price\")\n",
        "plt.title(\"Price Distribution by Event Type\")\n",
        "plt.show()\n"
      ]
    },
    {
      "cell_type": "markdown",
      "metadata": {
        "id": "CBCcSAuOz9eC"
      },
      "source": [
        "frequency of top brands"
      ]
    },
    {
      "cell_type": "code",
      "execution_count": 23,
      "metadata": {
        "colab": {
          "base_uri": "https://localhost:8080/"
        },
        "id": "XAh_U-vCz7Hy",
        "outputId": "4947e41c-adab-4973-eaa5-d21e08a595a3"
      },
      "outputs": [
        {
          "name": "stdout",
          "output_type": "stream",
          "text": [
            "+--------+-----+\n",
            "|   brand|count|\n",
            "+--------+-----+\n",
            "| samsung|11748|\n",
            "|   apple| 8566|\n",
            "|  xiaomi| 7400|\n",
            "|  huawei| 2228|\n",
            "| lucente| 1460|\n",
            "|    oppo| 1256|\n",
            "|    sony| 1186|\n",
            "|cordiant| 1169|\n",
            "|   bosch| 1145|\n",
            "|      lg| 1117|\n",
            "+--------+-----+\n",
            "only showing top 10 rows\n",
            "\n"
          ]
        }
      ],
      "source": [
        "df_sample.filter(\"brand IS NOT NULL\") \\\n",
        "    .groupBy(\"brand\") \\\n",
        "    .count() \\\n",
        "    .orderBy(\"count\", ascending=False) \\\n",
        "    .show(10)\n"
      ]
    },
    {
      "cell_type": "markdown",
      "metadata": {},
      "source": [
        "peak hours "
      ]
    },
    {
      "cell_type": "code",
      "execution_count": 24,
      "metadata": {
        "colab": {
          "base_uri": "https://localhost:8080/"
        },
        "id": "b6tMxP0u0MmT",
        "outputId": "3690dec1-e1a2-4a4b-ef15-cf829edd0211"
      },
      "outputs": [
        {
          "name": "stdout",
          "output_type": "stream",
          "text": [
            "+----+----------+-----+\n",
            "|hour|event_type|count|\n",
            "+----+----------+-----+\n",
            "|   0|      view|10673|\n",
            "|   0|      cart|  100|\n",
            "|   0|  purchase|  114|\n",
            "|   1|      view|13782|\n",
            "|   1|  purchase|  119|\n",
            "|   1|      cart|   99|\n",
            "|   2|      view|31730|\n",
            "|   2|      cart|  342|\n",
            "|   2|  purchase|  426|\n",
            "|   3|      view|41304|\n",
            "|   3|      cart|  548|\n",
            "|   3|  purchase|  763|\n",
            "+----+----------+-----+\n",
            "\n"
          ]
        }
      ],
      "source": [
        "from pyspark.sql.functions import hour\n",
        "\n",
        "df_sample.withColumn(\"hour\", hour(\"event_time\")) \\\n",
        "    .groupBy(\"hour\", \"event_type\") \\\n",
        "    .count() \\\n",
        "    .orderBy(\"hour\") \\\n",
        "    .show(24)\n"
      ]
    },
    {
      "cell_type": "code",
      "execution_count": 27,
      "metadata": {
        "colab": {
          "base_uri": "https://localhost:8080/"
        },
        "id": "hszrdWQX2oi3",
        "outputId": "68e753e8-9e89-4d3e-e893-6ec6ff3e1325"
      },
      "outputs": [
        {
          "name": "stdout",
          "output_type": "stream",
          "text": [
            "Reading package lists... Done\n",
            "Building dependency tree... Done\n",
            "Reading state information... Done\n",
            "git is already the newest version (1:2.34.1-1ubuntu1.12).\n",
            "0 upgraded, 0 newly installed, 0 to remove and 34 not upgraded.\n",
            "fatal: destination path 'dsc232r-milestone2' already exists and is not an empty directory.\n"
          ]
        }
      ],
      "source": [
        "\n",
        "!apt-get install git\n",
        "\n",
        "\n",
        "!git config --global user.email \"spearschristopher2002@gmail.com\"\n",
        "!git config --global user.name \"chrismicah\"\n",
        "\n",
        "\n",
        "!git clone https://github.com/chrismicah/dsc232r-milestone2.git\n"
      ]
    },
    {
      "cell_type": "code",
      "execution_count": 28,
      "metadata": {
        "colab": {
          "base_uri": "https://localhost:8080/"
        },
        "id": "ZzF9B-TT3MQV",
        "outputId": "80d566b3-d994-4365-d856-66eceb58bab2"
      },
      "outputs": [
        {
          "name": "stdout",
          "output_type": "stream",
          "text": [
            "mv: cannot stat '232r_project_part2.ipynb': No such file or directory\n"
          ]
        }
      ],
      "source": [
        "!mv 232r_project_part2.ipynb dsc232r-milestone2/\n",
        "!cp 2019-Nov.csv dsc232r-milestone2/"
      ]
    }
  ],
  "metadata": {
    "colab": {
      "provenance": []
    },
    "kernelspec": {
      "display_name": "Python 3",
      "name": "python3"
    },
    "language_info": {
      "name": "python"
    }
  },
  "nbformat": 4,
  "nbformat_minor": 0
}
